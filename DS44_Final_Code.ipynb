{
  "nbformat": 4,
  "nbformat_minor": 0,
  "metadata": {
    "colab": {
      "provenance": []
    },
    "kernelspec": {
      "name": "python3",
      "display_name": "Python 3"
    },
    "language_info": {
      "name": "python"
    }
  },
  "cells": [
    {
      "cell_type": "code",
      "source": [
        "#!pip install tensorflow\n",
        "#!pip install nltk"
      ],
      "metadata": {
        "id": "jdjvsU2G0cND"
      },
      "execution_count": null,
      "outputs": []
    },
    {
      "cell_type": "code",
      "execution_count": 1,
      "metadata": {
        "colab": {
          "base_uri": "https://localhost:8080/"
        },
        "id": "ReDOI4guskVx",
        "outputId": "6a6da0e4-6c18-420d-920f-f5660bfdbc7c"
      },
      "outputs": [
        {
          "output_type": "stream",
          "name": "stderr",
          "text": [
            "[nltk_data] Downloading package stopwords to /root/nltk_data...\n",
            "[nltk_data]   Unzipping corpora/stopwords.zip.\n"
          ]
        }
      ],
      "source": [
        "import tensorflow as tf\n",
        "from tensorflow.keras.models import Sequential\n",
        "from tensorflow.keras.layers import Embedding, Conv1D, MaxPooling1D, LSTM, Dense, Dropout, Bidirectional, SpatialDropout1D\n",
        "from tensorflow.keras.preprocessing.text import Tokenizer\n",
        "from tensorflow.keras.preprocessing.sequence import pad_sequences\n",
        "from tensorflow.keras.callbacks import EarlyStopping, ModelCheckpoint, ReduceLROnPlateau\n",
        "import pickle\n",
        "import pandas as pd\n",
        "import numpy as np\n",
        "import os\n",
        "import re\n",
        "import nltk\n",
        "from nltk.corpus import stopwords\n",
        "\n",
        "nltk.download('stopwords')\n",
        "stop_words = set(stopwords.words('english'))"
      ]
    },
    {
      "cell_type": "code",
      "source": [
        "# Text cleaning function\n",
        "def clean_text(text):\n",
        "    text = text.lower()\n",
        "    text = re.sub(r\"[^a-zA-Z0-9!?.,' ]\", \" \", text)\n",
        "    words = text.split()\n",
        "    cleaned_words = []\n",
        "\n",
        "    for word in words:\n",
        "        if re.fullmatch(r\"\\d+\", word):\n",
        "            cleaned_words.append(\"[Number Detected]\")\n",
        "        else:\n",
        "            cleaned_words.append(word)\n",
        "\n",
        "    text = \" \".join(cleaned_words)\n",
        "    text = \" \".join([word for word in text.split() if word not in stop_words])\n",
        "    return text\n",
        "\n",
        "# Model creation function (adjusted to output only 3 labels)\n",
        "def create_model(input_length, vocab_size, embedding_dim=100):\n",
        "    model = Sequential([\n",
        "        Embedding(vocab_size, embedding_dim, input_length=input_length),\n",
        "        SpatialDropout1D(0.2),\n",
        "        Conv1D(128, 5, activation='relu'),\n",
        "        MaxPooling1D(pool_size=4),\n",
        "        Bidirectional(LSTM(100, return_sequences=True)),\n",
        "        Dropout(0.3),\n",
        "        LSTM(100),\n",
        "        Dropout(0.3),\n",
        "        Dense(3, activation='sigmoid')  # Multi-label output\n",
        "    ])\n",
        "    model.compile(loss='binary_crossentropy', optimizer='adam', metrics=['accuracy'])\n",
        "    return model\n",
        "\n",
        "# Preprocess text data\n",
        "def preprocess_text(texts, tokenizer=None, max_len=100):\n",
        "    if tokenizer is None:\n",
        "        tokenizer = Tokenizer(num_words=20000)\n",
        "        tokenizer.fit_on_texts(texts)\n",
        "    sequences = tokenizer.texts_to_sequences(texts)\n",
        "    data = pad_sequences(sequences, maxlen=max_len, truncating='post')\n",
        "    return data, tokenizer\n",
        "\n",
        "# Load and prepare training data\n",
        "def load_data(preprocessed_csv_path='train_preprocessed.csv', max_len=100):\n",
        "    print(f\"Loading preprocessed data from {preprocessed_csv_path}...\")\n",
        "    if os.path.exists(preprocessed_csv_path):\n",
        "        df = pd.read_csv(preprocessed_csv_path)\n",
        "    else:\n",
        "        raise FileNotFoundError(\"Preprocessed CSV file not found.\")\n",
        "\n",
        "    df['comment_text'] = df['comment_text'].astype(str).apply(clean_text)\n",
        "    texts = df['comment_text'].values\n",
        "    labels = df[['toxic', 'obscene', 'insult']].values\n",
        "    labels = (labels > 0.5).astype(int)\n",
        "    return texts, labels\n",
        "\n",
        "# Train the model\n",
        "def train_model(preprocessed_csv_path='train_preprocessed.csv', model_path='model.h5', tokenizer_path='tokenizer.pkl', epochs=5, batch_size=32, max_len=100):\n",
        "    texts, labels = load_data(preprocessed_csv_path, max_len)\n",
        "    data, tokenizer = preprocess_text(texts, max_len=max_len)\n",
        "\n",
        "    vocab_size = len(tokenizer.word_index) + 1\n",
        "    model = create_model(input_length=data.shape[1], vocab_size=vocab_size)\n",
        "\n",
        "    checkpoint = ModelCheckpoint(model_path, monitor='val_loss', save_best_only=True, verbose=1)\n",
        "    early_stopping = EarlyStopping(monitor='val_loss', patience=3, verbose=1)\n",
        "    reduce_lr = ReduceLROnPlateau(monitor='val_loss', factor=0.5, patience=2, verbose=1)\n",
        "\n",
        "    model.fit(data, labels, epochs=epochs, batch_size=batch_size, validation_split=0.2,\n",
        "              callbacks=[checkpoint, early_stopping, reduce_lr], verbose=1)\n",
        "\n",
        "    with open(tokenizer_path, 'wb') as f:\n",
        "        pickle.dump(tokenizer, f)\n",
        "\n",
        "    print(\"Model training complete and saved.\")\n",
        "\n",
        "# Load trained model\n",
        "def load_model_and_tokenizer(model_path='model.h5', tokenizer_path='tokenizer.pkl'):\n",
        "    model = tf.keras.models.load_model(model_path)\n",
        "    with open(tokenizer_path, 'rb') as f:\n",
        "        tokenizer = pickle.load(f)\n",
        "    return model, tokenizer\n",
        "\n",
        "# Predict toxicity\n",
        "def predict_toxicity(model, tokenizer, text, max_len=100):\n",
        "    processed_text, _ = preprocess_text([clean_text(text)], tokenizer, max_len)\n",
        "    prediction = model.predict(processed_text)[0]\n",
        "    categories = [\"Toxic\", \"Obscene\", \"Insult\"]\n",
        "    return {cat: float(pred) for cat, pred in zip(categories, prediction)}\n",
        "\n",
        "# Main training execution\n",
        "if __name__ == \"__main__\":\n",
        "    train_model()"
      ],
      "metadata": {
        "colab": {
          "base_uri": "https://localhost:8080/"
        },
        "id": "V4Uav62qsvhT",
        "outputId": "fb83ade1-0658-4b30-ffa1-4259368dc5ea"
      },
      "execution_count": 2,
      "outputs": [
        {
          "output_type": "stream",
          "name": "stdout",
          "text": [
            "Loading preprocessed data from train_preprocessed.csv...\n"
          ]
        },
        {
          "output_type": "stream",
          "name": "stderr",
          "text": [
            "/usr/local/lib/python3.11/dist-packages/keras/src/layers/core/embedding.py:90: UserWarning: Argument `input_length` is deprecated. Just remove it.\n",
            "  warnings.warn(\n"
          ]
        },
        {
          "output_type": "stream",
          "name": "stdout",
          "text": [
            "Epoch 1/8\n",
            "\u001b[1m3990/3990\u001b[0m \u001b[32m━━━━━━━━━━━━━━━━━━━━\u001b[0m\u001b[37m\u001b[0m \u001b[1m0s\u001b[0m 356ms/step - accuracy: 0.9361 - loss: 0.1247\n",
            "Epoch 1: val_loss improved from inf to 0.07562, saving model to model.h5\n"
          ]
        },
        {
          "output_type": "stream",
          "name": "stderr",
          "text": [
            "WARNING:absl:You are saving your model as an HDF5 file via `model.save()` or `keras.saving.save_model(model)`. This file format is considered legacy. We recommend using instead the native Keras format, e.g. `model.save('my_model.keras')` or `keras.saving.save_model(model, 'my_model.keras')`. \n"
          ]
        },
        {
          "output_type": "stream",
          "name": "stdout",
          "text": [
            "\b\b\b\b\b\b\b\b\b\b\b\b\b\b\b\b\b\b\b\b\b\b\b\b\b\b\b\b\b\b\b\b\b\b\b\b\b\b\b\b\b\b\b\b\b\b\b\b\b\b\b\b\b\b\b\b\b\b\b\b\b\b\b\b\b\b\b\b\b\b\b\b\b\b\b\b\b\b\r\u001b[1m3990/3990\u001b[0m \u001b[32m━━━━━━━━━━━━━━━━━━━━\u001b[0m\u001b[37m\u001b[0m \u001b[1m1472s\u001b[0m 367ms/step - accuracy: 0.9361 - loss: 0.1247 - val_accuracy: 0.9945 - val_loss: 0.0756 - learning_rate: 0.0010\n",
            "Epoch 2/8\n",
            "\u001b[1m3990/3990\u001b[0m \u001b[32m━━━━━━━━━━━━━━━━━━━━\u001b[0m\u001b[37m\u001b[0m \u001b[1m0s\u001b[0m 364ms/step - accuracy: 0.9897 - loss: 0.0673\n",
            "Epoch 2: val_loss did not improve from 0.07562\n",
            "\u001b[1m3990/3990\u001b[0m \u001b[32m━━━━━━━━━━━━━━━━━━━━\u001b[0m\u001b[37m\u001b[0m \u001b[1m1551s\u001b[0m 374ms/step - accuracy: 0.9897 - loss: 0.0673 - val_accuracy: 0.9943 - val_loss: 0.0759 - learning_rate: 0.0010\n",
            "Epoch 3/8\n",
            "\u001b[1m3990/3990\u001b[0m \u001b[32m━━━━━━━━━━━━━━━━━━━━\u001b[0m\u001b[37m\u001b[0m \u001b[1m0s\u001b[0m 359ms/step - accuracy: 0.9909 - loss: 0.0549\n",
            "Epoch 3: val_loss did not improve from 0.07562\n",
            "\n",
            "Epoch 3: ReduceLROnPlateau reducing learning rate to 0.0005000000237487257.\n",
            "\u001b[1m3990/3990\u001b[0m \u001b[32m━━━━━━━━━━━━━━━━━━━━\u001b[0m\u001b[37m\u001b[0m \u001b[1m1502s\u001b[0m 369ms/step - accuracy: 0.9909 - loss: 0.0549 - val_accuracy: 0.9942 - val_loss: 0.0812 - learning_rate: 0.0010\n",
            "Epoch 4/8\n",
            "\u001b[1m3990/3990\u001b[0m \u001b[32m━━━━━━━━━━━━━━━━━━━━\u001b[0m\u001b[37m\u001b[0m \u001b[1m0s\u001b[0m 362ms/step - accuracy: 0.9680 - loss: 0.0428\n",
            "Epoch 4: val_loss did not improve from 0.07562\n",
            "\u001b[1m3990/3990\u001b[0m \u001b[32m━━━━━━━━━━━━━━━━━━━━\u001b[0m\u001b[37m\u001b[0m \u001b[1m1532s\u001b[0m 372ms/step - accuracy: 0.9680 - loss: 0.0428 - val_accuracy: 0.9933 - val_loss: 0.0904 - learning_rate: 5.0000e-04\n",
            "Epoch 4: early stopping\n",
            "Model training complete and saved.\n"
          ]
        }
      ]
    },
    {
      "cell_type": "code",
      "source": [
        "!pip install gradio"
      ],
      "metadata": {
        "colab": {
          "base_uri": "https://localhost:8080/"
        },
        "collapsed": true,
        "id": "uu7f7H9R0W4a",
        "outputId": "f9f3e05c-7f25-4bb1-c626-54acfb5d57c4"
      },
      "execution_count": 3,
      "outputs": [
        {
          "output_type": "stream",
          "name": "stdout",
          "text": [
            "Collecting gradio\n",
            "  Downloading gradio-5.25.2-py3-none-any.whl.metadata (16 kB)\n",
            "Collecting aiofiles<25.0,>=22.0 (from gradio)\n",
            "  Downloading aiofiles-24.1.0-py3-none-any.whl.metadata (10 kB)\n",
            "Requirement already satisfied: anyio<5.0,>=3.0 in /usr/local/lib/python3.11/dist-packages (from gradio) (4.9.0)\n",
            "Collecting fastapi<1.0,>=0.115.2 (from gradio)\n",
            "  Downloading fastapi-0.115.12-py3-none-any.whl.metadata (27 kB)\n",
            "Collecting ffmpy (from gradio)\n",
            "  Downloading ffmpy-0.5.0-py3-none-any.whl.metadata (3.0 kB)\n",
            "Collecting gradio-client==1.8.0 (from gradio)\n",
            "  Downloading gradio_client-1.8.0-py3-none-any.whl.metadata (7.1 kB)\n",
            "Collecting groovy~=0.1 (from gradio)\n",
            "  Downloading groovy-0.1.2-py3-none-any.whl.metadata (6.1 kB)\n",
            "Requirement already satisfied: httpx>=0.24.1 in /usr/local/lib/python3.11/dist-packages (from gradio) (0.28.1)\n",
            "Requirement already satisfied: huggingface-hub>=0.28.1 in /usr/local/lib/python3.11/dist-packages (from gradio) (0.30.2)\n",
            "Requirement already satisfied: jinja2<4.0 in /usr/local/lib/python3.11/dist-packages (from gradio) (3.1.6)\n",
            "Requirement already satisfied: markupsafe<4.0,>=2.0 in /usr/local/lib/python3.11/dist-packages (from gradio) (3.0.2)\n",
            "Requirement already satisfied: numpy<3.0,>=1.0 in /usr/local/lib/python3.11/dist-packages (from gradio) (2.0.2)\n",
            "Requirement already satisfied: orjson~=3.0 in /usr/local/lib/python3.11/dist-packages (from gradio) (3.10.16)\n",
            "Requirement already satisfied: packaging in /usr/local/lib/python3.11/dist-packages (from gradio) (24.2)\n",
            "Requirement already satisfied: pandas<3.0,>=1.0 in /usr/local/lib/python3.11/dist-packages (from gradio) (2.2.2)\n",
            "Requirement already satisfied: pillow<12.0,>=8.0 in /usr/local/lib/python3.11/dist-packages (from gradio) (11.1.0)\n",
            "Requirement already satisfied: pydantic<2.12,>=2.0 in /usr/local/lib/python3.11/dist-packages (from gradio) (2.11.3)\n",
            "Collecting pydub (from gradio)\n",
            "  Downloading pydub-0.25.1-py2.py3-none-any.whl.metadata (1.4 kB)\n",
            "Collecting python-multipart>=0.0.18 (from gradio)\n",
            "  Downloading python_multipart-0.0.20-py3-none-any.whl.metadata (1.8 kB)\n",
            "Requirement already satisfied: pyyaml<7.0,>=5.0 in /usr/local/lib/python3.11/dist-packages (from gradio) (6.0.2)\n",
            "Collecting ruff>=0.9.3 (from gradio)\n",
            "  Downloading ruff-0.11.6-py3-none-manylinux_2_17_x86_64.manylinux2014_x86_64.whl.metadata (25 kB)\n",
            "Collecting safehttpx<0.2.0,>=0.1.6 (from gradio)\n",
            "  Downloading safehttpx-0.1.6-py3-none-any.whl.metadata (4.2 kB)\n",
            "Collecting semantic-version~=2.0 (from gradio)\n",
            "  Downloading semantic_version-2.10.0-py2.py3-none-any.whl.metadata (9.7 kB)\n",
            "Collecting starlette<1.0,>=0.40.0 (from gradio)\n",
            "  Downloading starlette-0.46.2-py3-none-any.whl.metadata (6.2 kB)\n",
            "Collecting tomlkit<0.14.0,>=0.12.0 (from gradio)\n",
            "  Downloading tomlkit-0.13.2-py3-none-any.whl.metadata (2.7 kB)\n",
            "Requirement already satisfied: typer<1.0,>=0.12 in /usr/local/lib/python3.11/dist-packages (from gradio) (0.15.2)\n",
            "Requirement already satisfied: typing-extensions~=4.0 in /usr/local/lib/python3.11/dist-packages (from gradio) (4.13.2)\n",
            "Collecting uvicorn>=0.14.0 (from gradio)\n",
            "  Downloading uvicorn-0.34.1-py3-none-any.whl.metadata (6.5 kB)\n",
            "Requirement already satisfied: fsspec in /usr/local/lib/python3.11/dist-packages (from gradio-client==1.8.0->gradio) (2025.3.2)\n",
            "Requirement already satisfied: websockets<16.0,>=10.0 in /usr/local/lib/python3.11/dist-packages (from gradio-client==1.8.0->gradio) (15.0.1)\n",
            "Requirement already satisfied: idna>=2.8 in /usr/local/lib/python3.11/dist-packages (from anyio<5.0,>=3.0->gradio) (3.10)\n",
            "Requirement already satisfied: sniffio>=1.1 in /usr/local/lib/python3.11/dist-packages (from anyio<5.0,>=3.0->gradio) (1.3.1)\n",
            "Requirement already satisfied: certifi in /usr/local/lib/python3.11/dist-packages (from httpx>=0.24.1->gradio) (2025.1.31)\n",
            "Requirement already satisfied: httpcore==1.* in /usr/local/lib/python3.11/dist-packages (from httpx>=0.24.1->gradio) (1.0.8)\n",
            "Requirement already satisfied: h11<0.15,>=0.13 in /usr/local/lib/python3.11/dist-packages (from httpcore==1.*->httpx>=0.24.1->gradio) (0.14.0)\n",
            "Requirement already satisfied: filelock in /usr/local/lib/python3.11/dist-packages (from huggingface-hub>=0.28.1->gradio) (3.18.0)\n",
            "Requirement already satisfied: requests in /usr/local/lib/python3.11/dist-packages (from huggingface-hub>=0.28.1->gradio) (2.32.3)\n",
            "Requirement already satisfied: tqdm>=4.42.1 in /usr/local/lib/python3.11/dist-packages (from huggingface-hub>=0.28.1->gradio) (4.67.1)\n",
            "Requirement already satisfied: python-dateutil>=2.8.2 in /usr/local/lib/python3.11/dist-packages (from pandas<3.0,>=1.0->gradio) (2.8.2)\n",
            "Requirement already satisfied: pytz>=2020.1 in /usr/local/lib/python3.11/dist-packages (from pandas<3.0,>=1.0->gradio) (2025.2)\n",
            "Requirement already satisfied: tzdata>=2022.7 in /usr/local/lib/python3.11/dist-packages (from pandas<3.0,>=1.0->gradio) (2025.2)\n",
            "Requirement already satisfied: annotated-types>=0.6.0 in /usr/local/lib/python3.11/dist-packages (from pydantic<2.12,>=2.0->gradio) (0.7.0)\n",
            "Requirement already satisfied: pydantic-core==2.33.1 in /usr/local/lib/python3.11/dist-packages (from pydantic<2.12,>=2.0->gradio) (2.33.1)\n",
            "Requirement already satisfied: typing-inspection>=0.4.0 in /usr/local/lib/python3.11/dist-packages (from pydantic<2.12,>=2.0->gradio) (0.4.0)\n",
            "Requirement already satisfied: click>=8.0.0 in /usr/local/lib/python3.11/dist-packages (from typer<1.0,>=0.12->gradio) (8.1.8)\n",
            "Requirement already satisfied: shellingham>=1.3.0 in /usr/local/lib/python3.11/dist-packages (from typer<1.0,>=0.12->gradio) (1.5.4)\n",
            "Requirement already satisfied: rich>=10.11.0 in /usr/local/lib/python3.11/dist-packages (from typer<1.0,>=0.12->gradio) (13.9.4)\n",
            "Requirement already satisfied: six>=1.5 in /usr/local/lib/python3.11/dist-packages (from python-dateutil>=2.8.2->pandas<3.0,>=1.0->gradio) (1.17.0)\n",
            "Requirement already satisfied: markdown-it-py>=2.2.0 in /usr/local/lib/python3.11/dist-packages (from rich>=10.11.0->typer<1.0,>=0.12->gradio) (3.0.0)\n",
            "Requirement already satisfied: pygments<3.0.0,>=2.13.0 in /usr/local/lib/python3.11/dist-packages (from rich>=10.11.0->typer<1.0,>=0.12->gradio) (2.18.0)\n",
            "Requirement already satisfied: charset-normalizer<4,>=2 in /usr/local/lib/python3.11/dist-packages (from requests->huggingface-hub>=0.28.1->gradio) (3.4.1)\n",
            "Requirement already satisfied: urllib3<3,>=1.21.1 in /usr/local/lib/python3.11/dist-packages (from requests->huggingface-hub>=0.28.1->gradio) (2.3.0)\n",
            "Requirement already satisfied: mdurl~=0.1 in /usr/local/lib/python3.11/dist-packages (from markdown-it-py>=2.2.0->rich>=10.11.0->typer<1.0,>=0.12->gradio) (0.1.2)\n",
            "Downloading gradio-5.25.2-py3-none-any.whl (46.9 MB)\n",
            "\u001b[2K   \u001b[90m━━━━━━━━━━━━━━━━━━━━━━━━━━━━━━━━━━━━━━━━\u001b[0m \u001b[32m46.9/46.9 MB\u001b[0m \u001b[31m15.0 MB/s\u001b[0m eta \u001b[36m0:00:00\u001b[0m\n",
            "\u001b[?25hDownloading gradio_client-1.8.0-py3-none-any.whl (322 kB)\n",
            "\u001b[2K   \u001b[90m━━━━━━━━━━━━━━━━━━━━━━━━━━━━━━━━━━━━━━━━\u001b[0m \u001b[32m322.2/322.2 kB\u001b[0m \u001b[31m24.5 MB/s\u001b[0m eta \u001b[36m0:00:00\u001b[0m\n",
            "\u001b[?25hDownloading aiofiles-24.1.0-py3-none-any.whl (15 kB)\n",
            "Downloading fastapi-0.115.12-py3-none-any.whl (95 kB)\n",
            "\u001b[2K   \u001b[90m━━━━━━━━━━━━━━━━━━━━━━━━━━━━━━━━━━━━━━━━\u001b[0m \u001b[32m95.2/95.2 kB\u001b[0m \u001b[31m8.1 MB/s\u001b[0m eta \u001b[36m0:00:00\u001b[0m\n",
            "\u001b[?25hDownloading groovy-0.1.2-py3-none-any.whl (14 kB)\n",
            "Downloading python_multipart-0.0.20-py3-none-any.whl (24 kB)\n",
            "Downloading ruff-0.11.6-py3-none-manylinux_2_17_x86_64.manylinux2014_x86_64.whl (11.5 MB)\n",
            "\u001b[2K   \u001b[90m━━━━━━━━━━━━━━━━━━━━━━━━━━━━━━━━━━━━━━━━\u001b[0m \u001b[32m11.5/11.5 MB\u001b[0m \u001b[31m91.3 MB/s\u001b[0m eta \u001b[36m0:00:00\u001b[0m\n",
            "\u001b[?25hDownloading safehttpx-0.1.6-py3-none-any.whl (8.7 kB)\n",
            "Downloading semantic_version-2.10.0-py2.py3-none-any.whl (15 kB)\n",
            "Downloading starlette-0.46.2-py3-none-any.whl (72 kB)\n",
            "\u001b[2K   \u001b[90m━━━━━━━━━━━━━━━━━━━━━━━━━━━━━━━━━━━━━━━━\u001b[0m \u001b[32m72.0/72.0 kB\u001b[0m \u001b[31m5.8 MB/s\u001b[0m eta \u001b[36m0:00:00\u001b[0m\n",
            "\u001b[?25hDownloading tomlkit-0.13.2-py3-none-any.whl (37 kB)\n",
            "Downloading uvicorn-0.34.1-py3-none-any.whl (62 kB)\n",
            "\u001b[2K   \u001b[90m━━━━━━━━━━━━━━━━━━━━━━━━━━━━━━━━━━━━━━━━\u001b[0m \u001b[32m62.4/62.4 kB\u001b[0m \u001b[31m5.7 MB/s\u001b[0m eta \u001b[36m0:00:00\u001b[0m\n",
            "\u001b[?25hDownloading ffmpy-0.5.0-py3-none-any.whl (6.0 kB)\n",
            "Downloading pydub-0.25.1-py2.py3-none-any.whl (32 kB)\n",
            "Installing collected packages: pydub, uvicorn, tomlkit, semantic-version, ruff, python-multipart, groovy, ffmpy, aiofiles, starlette, safehttpx, gradio-client, fastapi, gradio\n",
            "Successfully installed aiofiles-24.1.0 fastapi-0.115.12 ffmpy-0.5.0 gradio-5.25.2 gradio-client-1.8.0 groovy-0.1.2 pydub-0.25.1 python-multipart-0.0.20 ruff-0.11.6 safehttpx-0.1.6 semantic-version-2.10.0 starlette-0.46.2 tomlkit-0.13.2 uvicorn-0.34.1\n"
          ]
        }
      ]
    },
    {
      "cell_type": "code",
      "source": [
        "import os\n",
        "print(os.listdir('/content'))"
      ],
      "metadata": {
        "colab": {
          "base_uri": "https://localhost:8080/"
        },
        "id": "04saRbfcG-UH",
        "outputId": "6f5fe45b-46c8-42ab-fc15-943956aae912"
      },
      "execution_count": 19,
      "outputs": [
        {
          "output_type": "stream",
          "name": "stdout",
          "text": [
            "['.config', 'train_preprocessed.csv', 'tokenizer.pkl', 'model.h5', '.ipynb_checkpoints', 'sample_data']\n"
          ]
        }
      ]
    },
    {
      "cell_type": "code",
      "source": [
        "import gradio as gr\n",
        "import matplotlib.pyplot as plt\n",
        "import os\n",
        "import sys\n",
        "import pickle\n",
        "import re\n",
        "from tensorflow.keras.models import load_model\n",
        "from tensorflow.keras.preprocessing.text import Tokenizer\n",
        "from tensorflow.keras.preprocessing.sequence import pad_sequences\n",
        "\n",
        "\n",
        "# Text cleaning function\n",
        "def clean_text(text):\n",
        "    text = text.lower()\n",
        "    text = re.sub(r\"[^a-zA-Z0-9!?.,' ]\", \" \", text)\n",
        "    words = text.split()\n",
        "    cleaned_words = []\n",
        "\n",
        "    for word in words:\n",
        "        if re.fullmatch(r\"\\d+\", word):\n",
        "            cleaned_words.append(\"[Number Detected]\")\n",
        "        else:\n",
        "            cleaned_words.append(word)\n",
        "\n",
        "    text = \" \".join(cleaned_words)\n",
        "    text = \" \".join([word for word in text.split() if word not in stop_words])\n",
        "    return text\n",
        "\n",
        "# Preprocess text data\n",
        "def preprocess_text(texts, tokenizer=None, max_len=100):\n",
        "    if tokenizer is None:\n",
        "        tokenizer = Tokenizer(num_words=20000)\n",
        "        tokenizer.fit_on_texts(texts)\n",
        "    sequences = tokenizer.texts_to_sequences(texts)\n",
        "    data = pad_sequences(sequences, maxlen=max_len, truncating='post')\n",
        "    return data, tokenizer\n",
        "\n",
        "# Load the trained model and tokenizer\n",
        "def load_model_and_tokenizer(model_path='model.h5', tokenizer_path='tokenizer.pkl'):\n",
        "    model = load_model(model_path)\n",
        "    with open(tokenizer_path, 'rb') as f:\n",
        "        tokenizer = pickle.load(f)\n",
        "    return model, tokenizer\n",
        "\n",
        "# Toxicity prediction function\n",
        "def predict_toxicity(model, tokenizer, text, max_len=100):\n",
        "    processed_text, _ = preprocess_text([clean_text(text)], tokenizer, max_len)\n",
        "    prediction = model.predict(processed_text)[0]\n",
        "    categories = [\"Toxic\", \"Obscene\", \"Insult\"]\n",
        "    return {cat: float(pred) for cat, pred in zip(categories, prediction)}\n",
        "\n",
        "# Toxicity prediction function for Gradio interface\n",
        "def toxicity_predictor(text, chart_type):\n",
        "    text = text.strip()\n",
        "\n",
        "    if not text:\n",
        "        return None, \"No input detected. Please provide some text.\"\n",
        "    if len(text) > 200:\n",
        "        return None, \"Input text is too long. Please shorten your text.\"\n",
        "    if not chart_type:\n",
        "        return None, \"Please select a chart type (Bar Chart or Pie Chart).\"\n",
        "\n",
        "    try:\n",
        "        result = predict_toxicity(model, tokenizer, text)\n",
        "        labels, percentages = zip(*[(k, round(v * 100, 2)) for k, v in result.items()])\n",
        "\n",
        "        if sum(percentages) < 1:\n",
        "            return None, \"No significant toxicity detected.\"\n",
        "\n",
        "        fig, ax = plt.subplots(figsize=(8, 4))\n",
        "\n",
        "        if chart_type == \"Bar Chart\":\n",
        "            ax.bar(labels, percentages, color=['red' if p > 50 else 'skyblue' for p in percentages])\n",
        "            ax.set_ylabel('Percentage')\n",
        "            ax.set_title('Toxicity Prediction')\n",
        "            ax.set_ylim(0, 100)\n",
        "\n",
        "            for i, v in enumerate(percentages):\n",
        "                ax.text(i, v + 2, f\"{v:.2f}%\", ha='center', fontsize=10)\n",
        "\n",
        "        elif chart_type == \"Pie Chart\":\n",
        "            filtered_data = [(p, l) for p, l in zip(percentages, labels) if p > 0]\n",
        "            if not filtered_data:\n",
        "                return None, \"No significant toxicity detected.\"\n",
        "\n",
        "            sorted_data = sorted(filtered_data, reverse=True)\n",
        "            sorted_percentages, sorted_labels = zip(*sorted_data)\n",
        "            colors = [\"red\", \"orange\", \"skyblue\"][:len(sorted_percentages)]\n",
        "\n",
        "            ax.pie(sorted_percentages, labels=sorted_labels, autopct='%1.1f%%', colors=colors)\n",
        "            ax.set_title('Toxicity Prediction')\n",
        "\n",
        "        return fig, None\n",
        "\n",
        "    except Exception as e:\n",
        "        return None, f\"An unexpected error occurred: {str(e)}\"\n",
        "\n",
        "# Load model and tokenizer (make sure model.h5 and tokenizer.pkl are in the same directory)\n",
        "model, tokenizer = load_model_and_tokenizer(model_path='model.h5', tokenizer_path='tokenizer.pkl')\n",
        "\n",
        "# Gradio app layout\n",
        "iface = gr.Interface(\n",
        "    fn=toxicity_predictor,\n",
        "    inputs=[\n",
        "        gr.Textbox(lines=3, placeholder=\"Enter your text here...\"),\n",
        "        gr.Radio(choices=[\"Bar Chart\", \"Pie Chart\"], label=\"Select Chart Type\", value=\"Bar Chart\")\n",
        "    ],\n",
        "    outputs=[\n",
        "        gr.Plot(),  # Graph output\n",
        "        gr.Textbox(label=\"Error Message\", interactive=False)  # Error message display\n",
        "    ],\n",
        "    title=\"CleanComment\",  # Title added here\n",
        ")\n",
        "\n",
        "# Launch app\n",
        "if __name__ == \"__main__\":\n",
        "    iface.launch(share=True)\n"
      ],
      "metadata": {
        "colab": {
          "base_uri": "https://localhost:8080/",
          "height": 628
        },
        "id": "oWiBMsUstK-E",
        "outputId": "6c442927-0aab-4477-a2be-7717c8a7da15"
      },
      "execution_count": 20,
      "outputs": [
        {
          "output_type": "stream",
          "name": "stderr",
          "text": [
            "WARNING:absl:Compiled the loaded model, but the compiled metrics have yet to be built. `model.compile_metrics` will be empty until you train or evaluate the model.\n"
          ]
        },
        {
          "output_type": "stream",
          "name": "stdout",
          "text": [
            "Colab notebook detected. To show errors in colab notebook, set debug=True in launch()\n",
            "* Running on public URL: https://4c98b3f416a11366a5.gradio.live\n",
            "\n",
            "This share link expires in 1 week. For free permanent hosting and GPU upgrades, run `gradio deploy` from the terminal in the working directory to deploy to Hugging Face Spaces (https://huggingface.co/spaces)\n"
          ]
        },
        {
          "output_type": "display_data",
          "data": {
            "text/plain": [
              "<IPython.core.display.HTML object>"
            ],
            "text/html": [
              "<div><iframe src=\"https://4c98b3f416a11366a5.gradio.live\" width=\"100%\" height=\"500\" allow=\"autoplay; camera; microphone; clipboard-read; clipboard-write;\" frameborder=\"0\" allowfullscreen></iframe></div>"
            ]
          },
          "metadata": {}
        }
      ]
    }
  ]
}